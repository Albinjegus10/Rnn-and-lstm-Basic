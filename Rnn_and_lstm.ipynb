{
  "metadata": {
    "kernelspec": {
      "display_name": "Python 3",
      "language": "python",
      "name": "python3"
    },
    "language_info": {
      "name": "python",
      "version": "3.6.4",
      "mimetype": "text/x-python",
      "codemirror_mode": {
        "name": "ipython",
        "version": 3
      },
      "pygments_lexer": "ipython3",
      "nbconvert_exporter": "python",
      "file_extension": ".py"
    },
    "colab": {
      "provenance": []
    }
  },
  "nbformat_minor": 0,
  "nbformat": 4,
  "cells": [
    {
      "cell_type": "code",
      "source": [
        "\n",
        "\n",
        "import numpy as np # linear algebra\n",
        "import pandas as pd # data processing, CSV file I/O (e.g. pd.read_csv)\n",
        "import matplotlib.pyplot as plt\n",
        "\n"
      ],
      "metadata": {
        "_uuid": "8f2839f25d086af736a60e9eeb907d3b93b6e0e5",
        "_cell_guid": "b1076dfc-b9ad-4769-8c92-a6c4dae69d19",
        "trusted": true,
        "id": "TePxdqrNyRuN"
      },
      "execution_count": 32,
      "outputs": []
    },
    {
      "cell_type": "code",
      "source": [
        "from google.colab import drive\n",
        "drive.mount('/content/drive')"
      ],
      "metadata": {
        "colab": {
          "base_uri": "https://localhost:8080/"
        },
        "id": "n2rJvFAxyldR",
        "outputId": "af33a4e5-f1c9-4944-b77c-ceac7170c585"
      },
      "execution_count": 33,
      "outputs": [
        {
          "output_type": "stream",
          "name": "stdout",
          "text": [
            "Drive already mounted at /content/drive; to attempt to forcibly remount, call drive.mount(\"/content/drive\", force_remount=True).\n"
          ]
        }
      ]
    },
    {
      "cell_type": "markdown",
      "source": [
        "<a id=\"3\"></a>\n",
        "**Implementing RNN with KERAS**"
      ],
      "metadata": {
        "id": "Zbf_BfMkyRuR"
      }
    },
    {
      "cell_type": "markdown",
      "source": [
        "<a id=\"4\"></a>\n",
        "**Importing and Preprocessind Data**"
      ],
      "metadata": {
        "id": "93iq0p5WyRuS"
      }
    },
    {
      "cell_type": "markdown",
      "source": [
        "<a id=\"5\"></a>\n",
        "**Loading Data:**"
      ],
      "metadata": {
        "id": "eLAZFtSIyRuS"
      }
    },
    {
      "cell_type": "code",
      "source": [
        "dataset_train = pd.read_csv('/content/drive/MyDrive/rnn/Google_Stock_Price_Train.csv')"
      ],
      "metadata": {
        "trusted": true,
        "id": "U_0RNrSjyRuT"
      },
      "execution_count": 34,
      "outputs": []
    },
    {
      "cell_type": "code",
      "source": [
        "dataset_train.head()"
      ],
      "metadata": {
        "trusted": true,
        "colab": {
          "base_uri": "https://localhost:8080/",
          "height": 206
        },
        "id": "5C5T6ryryRuU",
        "outputId": "f947cf1b-02eb-467c-d668-22d54f960a8b"
      },
      "execution_count": 35,
      "outputs": [
        {
          "output_type": "execute_result",
          "data": {
            "text/plain": [
              "       Date    Open    High     Low   Close      Volume\n",
              "0  1/3/2012  325.25  332.83  324.97  663.59   7,380,500\n",
              "1  1/4/2012  331.27  333.87  329.08  666.45   5,749,400\n",
              "2  1/5/2012  329.83  330.75  326.89  657.21   6,590,300\n",
              "3  1/6/2012  328.34  328.77  323.68  648.24   5,405,900\n",
              "4  1/9/2012  322.04  322.29  309.46  620.76  11,688,800"
            ],
            "text/html": [
              "\n",
              "  <div id=\"df-b0762ea7-e4bc-4b2c-9ecf-f06d31bc1feb\">\n",
              "    <div class=\"colab-df-container\">\n",
              "      <div>\n",
              "<style scoped>\n",
              "    .dataframe tbody tr th:only-of-type {\n",
              "        vertical-align: middle;\n",
              "    }\n",
              "\n",
              "    .dataframe tbody tr th {\n",
              "        vertical-align: top;\n",
              "    }\n",
              "\n",
              "    .dataframe thead th {\n",
              "        text-align: right;\n",
              "    }\n",
              "</style>\n",
              "<table border=\"1\" class=\"dataframe\">\n",
              "  <thead>\n",
              "    <tr style=\"text-align: right;\">\n",
              "      <th></th>\n",
              "      <th>Date</th>\n",
              "      <th>Open</th>\n",
              "      <th>High</th>\n",
              "      <th>Low</th>\n",
              "      <th>Close</th>\n",
              "      <th>Volume</th>\n",
              "    </tr>\n",
              "  </thead>\n",
              "  <tbody>\n",
              "    <tr>\n",
              "      <th>0</th>\n",
              "      <td>1/3/2012</td>\n",
              "      <td>325.25</td>\n",
              "      <td>332.83</td>\n",
              "      <td>324.97</td>\n",
              "      <td>663.59</td>\n",
              "      <td>7,380,500</td>\n",
              "    </tr>\n",
              "    <tr>\n",
              "      <th>1</th>\n",
              "      <td>1/4/2012</td>\n",
              "      <td>331.27</td>\n",
              "      <td>333.87</td>\n",
              "      <td>329.08</td>\n",
              "      <td>666.45</td>\n",
              "      <td>5,749,400</td>\n",
              "    </tr>\n",
              "    <tr>\n",
              "      <th>2</th>\n",
              "      <td>1/5/2012</td>\n",
              "      <td>329.83</td>\n",
              "      <td>330.75</td>\n",
              "      <td>326.89</td>\n",
              "      <td>657.21</td>\n",
              "      <td>6,590,300</td>\n",
              "    </tr>\n",
              "    <tr>\n",
              "      <th>3</th>\n",
              "      <td>1/6/2012</td>\n",
              "      <td>328.34</td>\n",
              "      <td>328.77</td>\n",
              "      <td>323.68</td>\n",
              "      <td>648.24</td>\n",
              "      <td>5,405,900</td>\n",
              "    </tr>\n",
              "    <tr>\n",
              "      <th>4</th>\n",
              "      <td>1/9/2012</td>\n",
              "      <td>322.04</td>\n",
              "      <td>322.29</td>\n",
              "      <td>309.46</td>\n",
              "      <td>620.76</td>\n",
              "      <td>11,688,800</td>\n",
              "    </tr>\n",
              "  </tbody>\n",
              "</table>\n",
              "</div>\n",
              "      <button class=\"colab-df-convert\" onclick=\"convertToInteractive('df-b0762ea7-e4bc-4b2c-9ecf-f06d31bc1feb')\"\n",
              "              title=\"Convert this dataframe to an interactive table.\"\n",
              "              style=\"display:none;\">\n",
              "        \n",
              "  <svg xmlns=\"http://www.w3.org/2000/svg\" height=\"24px\"viewBox=\"0 0 24 24\"\n",
              "       width=\"24px\">\n",
              "    <path d=\"M0 0h24v24H0V0z\" fill=\"none\"/>\n",
              "    <path d=\"M18.56 5.44l.94 2.06.94-2.06 2.06-.94-2.06-.94-.94-2.06-.94 2.06-2.06.94zm-11 1L8.5 8.5l.94-2.06 2.06-.94-2.06-.94L8.5 2.5l-.94 2.06-2.06.94zm10 10l.94 2.06.94-2.06 2.06-.94-2.06-.94-.94-2.06-.94 2.06-2.06.94z\"/><path d=\"M17.41 7.96l-1.37-1.37c-.4-.4-.92-.59-1.43-.59-.52 0-1.04.2-1.43.59L10.3 9.45l-7.72 7.72c-.78.78-.78 2.05 0 2.83L4 21.41c.39.39.9.59 1.41.59.51 0 1.02-.2 1.41-.59l7.78-7.78 2.81-2.81c.8-.78.8-2.07 0-2.86zM5.41 20L4 18.59l7.72-7.72 1.47 1.35L5.41 20z\"/>\n",
              "  </svg>\n",
              "      </button>\n",
              "      \n",
              "  <style>\n",
              "    .colab-df-container {\n",
              "      display:flex;\n",
              "      flex-wrap:wrap;\n",
              "      gap: 12px;\n",
              "    }\n",
              "\n",
              "    .colab-df-convert {\n",
              "      background-color: #E8F0FE;\n",
              "      border: none;\n",
              "      border-radius: 50%;\n",
              "      cursor: pointer;\n",
              "      display: none;\n",
              "      fill: #1967D2;\n",
              "      height: 32px;\n",
              "      padding: 0 0 0 0;\n",
              "      width: 32px;\n",
              "    }\n",
              "\n",
              "    .colab-df-convert:hover {\n",
              "      background-color: #E2EBFA;\n",
              "      box-shadow: 0px 1px 2px rgba(60, 64, 67, 0.3), 0px 1px 3px 1px rgba(60, 64, 67, 0.15);\n",
              "      fill: #174EA6;\n",
              "    }\n",
              "\n",
              "    [theme=dark] .colab-df-convert {\n",
              "      background-color: #3B4455;\n",
              "      fill: #D2E3FC;\n",
              "    }\n",
              "\n",
              "    [theme=dark] .colab-df-convert:hover {\n",
              "      background-color: #434B5C;\n",
              "      box-shadow: 0px 1px 3px 1px rgba(0, 0, 0, 0.15);\n",
              "      filter: drop-shadow(0px 1px 2px rgba(0, 0, 0, 0.3));\n",
              "      fill: #FFFFFF;\n",
              "    }\n",
              "  </style>\n",
              "\n",
              "      <script>\n",
              "        const buttonEl =\n",
              "          document.querySelector('#df-b0762ea7-e4bc-4b2c-9ecf-f06d31bc1feb button.colab-df-convert');\n",
              "        buttonEl.style.display =\n",
              "          google.colab.kernel.accessAllowed ? 'block' : 'none';\n",
              "\n",
              "        async function convertToInteractive(key) {\n",
              "          const element = document.querySelector('#df-b0762ea7-e4bc-4b2c-9ecf-f06d31bc1feb');\n",
              "          const dataTable =\n",
              "            await google.colab.kernel.invokeFunction('convertToInteractive',\n",
              "                                                     [key], {});\n",
              "          if (!dataTable) return;\n",
              "\n",
              "          const docLinkHtml = 'Like what you see? Visit the ' +\n",
              "            '<a target=\"_blank\" href=https://colab.research.google.com/notebooks/data_table.ipynb>data table notebook</a>'\n",
              "            + ' to learn more about interactive tables.';\n",
              "          element.innerHTML = '';\n",
              "          dataTable['output_type'] = 'display_data';\n",
              "          await google.colab.output.renderOutput(dataTable, element);\n",
              "          const docLink = document.createElement('div');\n",
              "          docLink.innerHTML = docLinkHtml;\n",
              "          element.appendChild(docLink);\n",
              "        }\n",
              "      </script>\n",
              "    </div>\n",
              "  </div>\n",
              "  "
            ]
          },
          "metadata": {},
          "execution_count": 35
        }
      ]
    },
    {
      "cell_type": "code",
      "source": [
        "#open'ı kullanıcaz sadece:\n",
        "train = dataset_train.loc[:, ['Open']].values #array'e çevirdik\n",
        "train"
      ],
      "metadata": {
        "trusted": true,
        "colab": {
          "base_uri": "https://localhost:8080/"
        },
        "id": "t46DiRU3yRuV",
        "outputId": "4af9b8e1-8d7a-494a-8270-5ae875c8952d"
      },
      "execution_count": 36,
      "outputs": [
        {
          "output_type": "execute_result",
          "data": {
            "text/plain": [
              "array([[325.25],\n",
              "       [331.27],\n",
              "       [329.83],\n",
              "       ...,\n",
              "       [793.7 ],\n",
              "       [783.33],\n",
              "       [782.75]])"
            ]
          },
          "metadata": {},
          "execution_count": 36
        }
      ]
    },
    {
      "cell_type": "markdown",
      "source": [
        "<a id=\"6\"></a>\n",
        "**Feature Scaling:**"
      ],
      "metadata": {
        "id": "AD_Wb2xMyRuY"
      }
    },
    {
      "cell_type": "code",
      "source": [
        "from sklearn.preprocessing import MinMaxScaler #bununla, 0-1 arasına scale ettik\n",
        "scaler = MinMaxScaler(feature_range = (0, 1))\n",
        "train_scaled = scaler.fit_transform(train)\n",
        "train_scaled"
      ],
      "metadata": {
        "trusted": true,
        "colab": {
          "base_uri": "https://localhost:8080/"
        },
        "id": "UKuapsZryRuZ",
        "outputId": "d9a2a78c-47fa-436e-fbf3-7f3c1c77a21e"
      },
      "execution_count": 37,
      "outputs": [
        {
          "output_type": "execute_result",
          "data": {
            "text/plain": [
              "array([[0.08581368],\n",
              "       [0.09701243],\n",
              "       [0.09433366],\n",
              "       ...,\n",
              "       [0.95725128],\n",
              "       [0.93796041],\n",
              "       [0.93688146]])"
            ]
          },
          "metadata": {},
          "execution_count": 37
        }
      ]
    },
    {
      "cell_type": "code",
      "source": [
        "plt.plot(train_scaled)"
      ],
      "metadata": {
        "trusted": true,
        "colab": {
          "base_uri": "https://localhost:8080/",
          "height": 448
        },
        "id": "XKyrT1ScyRuZ",
        "outputId": "6046b005-b953-48c8-8252-bdece9f8b005"
      },
      "execution_count": 38,
      "outputs": [
        {
          "output_type": "execute_result",
          "data": {
            "text/plain": [
              "[<matplotlib.lines.Line2D at 0x7f6cd89c1a20>]"
            ]
          },
          "metadata": {},
          "execution_count": 38
        },
        {
          "output_type": "display_data",
          "data": {
            "text/plain": [
              "<Figure size 640x480 with 1 Axes>"
            ],
            "image/png": "[encoded data removed]"
          },
          "metadata": {}
        }
      ]
    },
    {
      "cell_type": "code",
      "source": [
        "train_scaled.shape"
      ],
      "metadata": {
        "colab": {
          "base_uri": "https://localhost:8080/"
        },
        "id": "FOYY43hZ6N9z",
        "outputId": "02229924-cd28-41b7-d526-c6c9ab497750"
      },
      "execution_count": 43,
      "outputs": [
        {
          "output_type": "execute_result",
          "data": {
            "text/plain": [
              "(1258, 1)"
            ]
          },
          "metadata": {},
          "execution_count": 43
        }
      ]
    },
    {
      "cell_type": "markdown",
      "source": [
        "<a id=\"7\"></a>\n",
        "**Create Data Structure:**"
      ],
      "metadata": {
        "id": "7kzmnkuyyRua"
      }
    },
    {
      "cell_type": "code",
      "source": [
        "\n",
        "X_train = []\n",
        "y_train = []\n",
        "timesteps = 70\n",
        "\n",
        "for i in range(timesteps, 1250):\n",
        "    X_train.append(train_scaled[i - timesteps:i, 0])\n",
        "    y_train.append(train_scaled[i, 0])\n",
        "    \n",
        "X_train, y_train = np.array(X_train), np.array(y_train)"
      ],
      "metadata": {
        "trusted": true,
        "id": "2cY2gTatyRua"
      },
      "execution_count": 48,
      "outputs": []
    },
    {
      "cell_type": "code",
      "source": [
        "print(X_train.shape)"
      ],
      "metadata": {
        "colab": {
          "base_uri": "https://localhost:8080/"
        },
        "id": "p23o4eP806s7",
        "outputId": "57de4a4e-9b2a-458d-b231-7e9bb50a0d4a"
      },
      "execution_count": 49,
      "outputs": [
        {
          "output_type": "stream",
          "name": "stdout",
          "text": [
            "(1180, 70)\n"
          ]
        }
      ]
    },
    {
      "cell_type": "markdown",
      "source": [
        "<a id=\"8\"></a>\n",
        "**Reshape:**"
      ],
      "metadata": {
        "id": "5iQb8U0myRub"
      }
    },
    {
      "cell_type": "code",
      "source": [
        "#Reshaping:\n",
        "X_train = np.reshape(X_train, (X_train.shape[0], X_train.shape[1], 1))"
      ],
      "metadata": {
        "trusted": true,
        "id": "YbcuFYfhyRub"
      },
      "execution_count": 50,
      "outputs": []
    },
    {
      "cell_type": "code",
      "source": [
        "print(X_train.shape)"
      ],
      "metadata": {
        "colab": {
          "base_uri": "https://localhost:8080/"
        },
        "id": "6_Iwv60Q0x6N",
        "outputId": "e90871a9-9e3c-4e18-ec57-c0cb6017f385"
      },
      "execution_count": 51,
      "outputs": [
        {
          "output_type": "stream",
          "name": "stdout",
          "text": [
            "(1180, 70, 1)\n"
          ]
        }
      ]
    },
    {
      "cell_type": "code",
      "source": [
        "print(X_train.shape[1],1)"
      ],
      "metadata": {
        "colab": {
          "base_uri": "https://localhost:8080/"
        },
        "id": "ZjOMFXd58vYJ",
        "outputId": "3335f53f-5dbb-48f4-ba6a-fd5eae33c175"
      },
      "execution_count": 52,
      "outputs": [
        {
          "output_type": "stream",
          "name": "stdout",
          "text": [
            "70 1\n"
          ]
        }
      ]
    },
    {
      "cell_type": "markdown",
      "source": [
        "<a id=\"9\"></a>\n",
        "**Create RNN Model**"
      ],
      "metadata": {
        "id": "g3fCQQx2yRub"
      }
    },
    {
      "cell_type": "code",
      "source": [
        "#import libraries and packages:\n",
        "from keras.models import Sequential\n",
        "from keras.layers import Dense\n",
        "from keras.layers import SimpleRNN\n",
        "from keras.layers import Dropout\n",
        "\n",
        "#Initialize RNN:\n",
        "regressor = Sequential()\n",
        "\n",
        "#Adding the first RNN layer and some Dropout regularization\n",
        "regressor.add(SimpleRNN(units = 50, activation='tanh', return_sequences=True, input_shape= (X_train.shape[1],1)))\n",
        "regressor.add(Dropout(0.2))\n",
        "\n",
        "#Adding the second RNN layer and some Dropout regularization\n",
        "regressor.add(SimpleRNN(units = 50, activation='tanh', return_sequences=True))\n",
        "regressor.add(Dropout(0.2))\n",
        "\n",
        "#Adding the third RNN layer and some Dropout regularization\n",
        "regressor.add(SimpleRNN(units = 50, activation='tanh', return_sequences=True))\n",
        "regressor.add(Dropout(0.2))\n",
        "\n",
        "#Adding the fourth RNN layer and some Dropout regularization\n",
        "regressor.add(SimpleRNN(units = 50))\n",
        "regressor.add(Dropout(0.2))\n",
        "\n",
        "#Adding the output layer\n",
        "regressor.add(Dense(units = 1))\n",
        "\n",
        "#Compile the RNN\n",
        "regressor.compile(optimizer='adam', loss='mean_squared_error')\n",
        "\n",
        "#Fitting the RNN to the Training set\n",
        "regressor.fit(X_train, y_train, epochs=100, batch_size=32)\n"
      ],
      "metadata": {
        "trusted": true,
        "colab": {
          "base_uri": "https://localhost:8080/"
        },
        "id": "iCn2-SF_yRuc",
        "outputId": "d94f0259-fa8f-47a5-fd2c-51c2302c3006"
      },
      "execution_count": 12,
      "outputs": [
        {
          "output_type": "stream",
          "name": "stdout",
          "text": [
            "Epoch 1/100\n",
            "38/38 [==============================] - 8s 92ms/step - loss: 0.3313\n",
            "Epoch 2/100\n",
            "38/38 [==============================] - 3s 75ms/step - loss: 0.1933\n",
            "Epoch 3/100\n",
            "38/38 [==============================] - 4s 98ms/step - loss: 0.1760\n",
            "Epoch 4/100\n",
            "38/38 [==============================] - 5s 120ms/step - loss: 0.1116\n",
            "Epoch 5/100\n",
            "38/38 [==============================] - 5s 141ms/step - loss: 0.0809\n",
            "Epoch 6/100\n",
            "38/38 [==============================] - 2s 61ms/step - loss: 0.0689\n",
            "Epoch 7/100\n",
            "38/38 [==============================] - 3s 72ms/step - loss: 0.0625\n",
            "Epoch 8/100\n",
            "38/38 [==============================] - 2s 54ms/step - loss: 0.0501\n",
            "Epoch 9/100\n",
            "38/38 [==============================] - 2s 55ms/step - loss: 0.0436\n",
            "Epoch 10/100\n",
            "38/38 [==============================] - 3s 76ms/step - loss: 0.0376\n",
            "Epoch 11/100\n",
            "38/38 [==============================] - 3s 89ms/step - loss: 0.0345\n",
            "Epoch 12/100\n",
            "38/38 [==============================] - 2s 54ms/step - loss: 0.0284\n",
            "Epoch 13/100\n",
            "38/38 [==============================] - 2s 54ms/step - loss: 0.0270\n",
            "Epoch 14/100\n",
            "38/38 [==============================] - 2s 53ms/step - loss: 0.0254\n",
            "Epoch 15/100\n",
            "38/38 [==============================] - 2s 54ms/step - loss: 0.0251\n",
            "Epoch 16/100\n",
            "38/38 [==============================] - 3s 69ms/step - loss: 0.0198\n",
            "Epoch 17/100\n",
            "38/38 [==============================] - 4s 94ms/step - loss: 0.0186\n",
            "Epoch 18/100\n",
            "38/38 [==============================] - 2s 55ms/step - loss: 0.0177\n",
            "Epoch 19/100\n",
            "38/38 [==============================] - 2s 55ms/step - loss: 0.0170\n",
            "Epoch 20/100\n",
            "38/38 [==============================] - 2s 55ms/step - loss: 0.0146\n",
            "Epoch 21/100\n",
            "38/38 [==============================] - 2s 54ms/step - loss: 0.0151\n",
            "Epoch 22/100\n",
            "38/38 [==============================] - 2s 61ms/step - loss: 0.0124\n",
            "Epoch 23/100\n",
            "38/38 [==============================] - 4s 96ms/step - loss: 0.0120\n",
            "Epoch 24/100\n",
            "38/38 [==============================] - 2s 61ms/step - loss: 0.0110\n",
            "Epoch 25/100\n",
            "38/38 [==============================] - 2s 55ms/step - loss: 0.0108\n",
            "Epoch 26/100\n",
            "38/38 [==============================] - 2s 55ms/step - loss: 0.0098\n",
            "Epoch 27/100\n",
            "38/38 [==============================] - 2s 56ms/step - loss: 0.0095\n",
            "Epoch 28/100\n",
            "38/38 [==============================] - 2s 56ms/step - loss: 0.0091\n",
            "Epoch 29/100\n",
            "38/38 [==============================] - 4s 95ms/step - loss: 0.0084\n",
            "Epoch 30/100\n",
            "38/38 [==============================] - 3s 67ms/step - loss: 0.0086\n",
            "Epoch 31/100\n",
            "38/38 [==============================] - 2s 55ms/step - loss: 0.0071\n",
            "Epoch 32/100\n",
            "38/38 [==============================] - 2s 54ms/step - loss: 0.0073\n",
            "Epoch 33/100\n",
            "38/38 [==============================] - 2s 55ms/step - loss: 0.0073\n",
            "Epoch 34/100\n",
            "38/38 [==============================] - 2s 55ms/step - loss: 0.0064\n",
            "Epoch 35/100\n",
            "38/38 [==============================] - 3s 92ms/step - loss: 0.0066\n",
            "Epoch 36/100\n",
            "38/38 [==============================] - 3s 73ms/step - loss: 0.0064\n",
            "Epoch 37/100\n",
            "38/38 [==============================] - 3s 67ms/step - loss: 0.0063\n",
            "Epoch 38/100\n",
            "38/38 [==============================] - 3s 80ms/step - loss: 0.0061\n",
            "Epoch 39/100\n",
            "38/38 [==============================] - 2s 55ms/step - loss: 0.0055\n",
            "Epoch 40/100\n",
            "38/38 [==============================] - 3s 70ms/step - loss: 0.0056\n",
            "Epoch 41/100\n",
            "38/38 [==============================] - 4s 94ms/step - loss: 0.0050\n",
            "Epoch 42/100\n",
            "38/38 [==============================] - 2s 54ms/step - loss: 0.0045\n",
            "Epoch 43/100\n",
            "38/38 [==============================] - 2s 57ms/step - loss: 0.0048\n",
            "Epoch 44/100\n",
            "38/38 [==============================] - 2s 55ms/step - loss: 0.0053\n",
            "Epoch 45/100\n",
            "38/38 [==============================] - 2s 54ms/step - loss: 0.0046\n",
            "Epoch 46/100\n",
            "38/38 [==============================] - 3s 67ms/step - loss: 0.0043\n",
            "Epoch 47/100\n",
            "38/38 [==============================] - 4s 95ms/step - loss: 0.0042\n",
            "Epoch 48/100\n",
            "38/38 [==============================] - 2s 56ms/step - loss: 0.0043\n",
            "Epoch 49/100\n",
            "38/38 [==============================] - 2s 55ms/step - loss: 0.0042\n",
            "Epoch 50/100\n",
            "38/38 [==============================] - 3s 69ms/step - loss: 0.0044\n",
            "Epoch 51/100\n",
            "38/38 [==============================] - 2s 55ms/step - loss: 0.0041\n",
            "Epoch 52/100\n",
            "38/38 [==============================] - 3s 71ms/step - loss: 0.0041\n",
            "Epoch 53/100\n",
            "38/38 [==============================] - 4s 93ms/step - loss: 0.0035\n",
            "Epoch 54/100\n",
            "38/38 [==============================] - 2s 56ms/step - loss: 0.0036\n",
            "Epoch 55/100\n",
            "38/38 [==============================] - 2s 56ms/step - loss: 0.0037\n",
            "Epoch 56/100\n",
            "38/38 [==============================] - 2s 55ms/step - loss: 0.0036\n",
            "Epoch 57/100\n",
            "38/38 [==============================] - 2s 56ms/step - loss: 0.0034\n",
            "Epoch 58/100\n",
            "38/38 [==============================] - 3s 70ms/step - loss: 0.0037\n",
            "Epoch 59/100\n",
            "38/38 [==============================] - 4s 97ms/step - loss: 0.0034\n",
            "Epoch 60/100\n",
            "38/38 [==============================] - 2s 55ms/step - loss: 0.0033\n",
            "Epoch 61/100\n",
            "38/38 [==============================] - 2s 56ms/step - loss: 0.0034\n",
            "Epoch 62/100\n",
            "38/38 [==============================] - 2s 55ms/step - loss: 0.0031\n",
            "Epoch 63/100\n",
            "38/38 [==============================] - 3s 87ms/step - loss: 0.0031\n",
            "Epoch 64/100\n",
            "38/38 [==============================] - 6s 151ms/step - loss: 0.0031\n",
            "Epoch 65/100\n",
            "38/38 [==============================] - 2s 55ms/step - loss: 0.0032\n",
            "Epoch 66/100\n",
            "38/38 [==============================] - 2s 56ms/step - loss: 0.0030\n",
            "Epoch 67/100\n",
            "38/38 [==============================] - 2s 56ms/step - loss: 0.0035\n",
            "Epoch 68/100\n",
            "38/38 [==============================] - 2s 55ms/step - loss: 0.0031\n",
            "Epoch 69/100\n",
            "38/38 [==============================] - 3s 68ms/step - loss: 0.0032\n",
            "Epoch 70/100\n",
            "38/38 [==============================] - 4s 98ms/step - loss: 0.0030\n",
            "Epoch 71/100\n",
            "38/38 [==============================] - 2s 54ms/step - loss: 0.0030\n",
            "Epoch 72/100\n",
            "38/38 [==============================] - 2s 62ms/step - loss: 0.0028\n",
            "Epoch 73/100\n",
            "38/38 [==============================] - 3s 76ms/step - loss: 0.0028\n",
            "Epoch 74/100\n",
            "38/38 [==============================] - 2s 56ms/step - loss: 0.0029\n",
            "Epoch 75/100\n",
            "38/38 [==============================] - 3s 86ms/step - loss: 0.0027\n",
            "Epoch 76/100\n",
            "38/38 [==============================] - 3s 79ms/step - loss: 0.0027\n",
            "Epoch 77/100\n",
            "38/38 [==============================] - 2s 55ms/step - loss: 0.0027\n",
            "Epoch 78/100\n",
            "38/38 [==============================] - 2s 56ms/step - loss: 0.0027\n",
            "Epoch 79/100\n",
            "38/38 [==============================] - 2s 54ms/step - loss: 0.0029\n",
            "Epoch 80/100\n",
            "38/38 [==============================] - 2s 55ms/step - loss: 0.0025\n",
            "Epoch 81/100\n",
            "38/38 [==============================] - 3s 82ms/step - loss: 0.0031\n",
            "Epoch 82/100\n",
            "38/38 [==============================] - 3s 84ms/step - loss: 0.0027\n",
            "Epoch 83/100\n",
            "38/38 [==============================] - 2s 56ms/step - loss: 0.0024\n",
            "Epoch 84/100\n",
            "38/38 [==============================] - 2s 55ms/step - loss: 0.0025\n",
            "Epoch 85/100\n",
            "38/38 [==============================] - 2s 55ms/step - loss: 0.0024\n",
            "Epoch 86/100\n",
            "38/38 [==============================] - 2s 55ms/step - loss: 0.0024\n",
            "Epoch 87/100\n",
            "38/38 [==============================] - 3s 89ms/step - loss: 0.0027\n",
            "Epoch 88/100\n",
            "38/38 [==============================] - 3s 84ms/step - loss: 0.0025\n",
            "Epoch 89/100\n",
            "38/38 [==============================] - 2s 55ms/step - loss: 0.0024\n",
            "Epoch 90/100\n",
            "38/38 [==============================] - 2s 56ms/step - loss: 0.0025\n",
            "Epoch 91/100\n",
            "38/38 [==============================] - 2s 55ms/step - loss: 0.0022\n",
            "Epoch 92/100\n",
            "38/38 [==============================] - 2s 55ms/step - loss: 0.0025\n",
            "Epoch 93/100\n",
            "38/38 [==============================] - 3s 77ms/step - loss: 0.0026\n",
            "Epoch 94/100\n",
            "38/38 [==============================] - 3s 88ms/step - loss: 0.0024\n",
            "Epoch 95/100\n",
            "38/38 [==============================] - 2s 56ms/step - loss: 0.0021\n",
            "Epoch 96/100\n",
            "38/38 [==============================] - 2s 55ms/step - loss: 0.0022\n",
            "Epoch 97/100\n",
            "38/38 [==============================] - 2s 55ms/step - loss: 0.0023\n",
            "Epoch 98/100\n",
            "38/38 [==============================] - 2s 55ms/step - loss: 0.0023\n",
            "Epoch 99/100\n",
            "38/38 [==============================] - 3s 76ms/step - loss: 0.0023\n",
            "Epoch 100/100\n",
            "38/38 [==============================] - 3s 91ms/step - loss: 0.0024\n"
          ]
        },
        {
          "output_type": "execute_result",
          "data": {
            "text/plain": [
              "<keras.callbacks.History at 0x7f6ce869abf0>"
            ]
          },
          "metadata": {},
          "execution_count": 12
        }
      ]
    },
    {
      "cell_type": "markdown",
      "source": [
        "* Epochs artırılbilir\n",
        "* Batch size değiştirilebilir\n",
        "* Activation functionlar değiştirilebilir\n",
        "* Layer sayısı artırılabilir"
      ],
      "metadata": {
        "id": "3JFqOo8XyRud"
      }
    },
    {
      "cell_type": "markdown",
      "source": [
        "<a id=\"10\"></a>\n",
        "**Prediction and Visualization of RNN Model**"
      ],
      "metadata": {
        "id": "UETt0BZtyRud"
      }
    },
    {
      "cell_type": "code",
      "source": [
        "dataset_test = pd.read_csv('/content/drive/MyDrive/rnn/Google_Stock_Price_Test.csv')\n",
        "dataset_test.head()"
      ],
      "metadata": {
        "trusted": true,
        "colab": {
          "base_uri": "https://localhost:8080/",
          "height": 206
        },
        "id": "5sWsHw3syRud",
        "outputId": "9bb301a8-efaa-4549-e121-a658586f213d"
      },
      "execution_count": 13,
      "outputs": [
        {
          "output_type": "execute_result",
          "data": {
            "text/plain": [
              "       Date    Open    High     Low   Close     Volume\n",
              "0  1/3/2017  778.81  789.63  775.80  786.14  1,657,300\n",
              "1  1/4/2017  788.36  791.34  783.16  786.90  1,073,000\n",
              "2  1/5/2017  786.08  794.48  785.02  794.02  1,335,200\n",
              "3  1/6/2017  795.26  807.90  792.20  806.15  1,640,200\n",
              "4  1/9/2017  806.40  809.97  802.83  806.65  1,272,400"
            ],
            "text/html": [
              "\n",
              "  <div id=\"df-2333a3b9-d1a3-4d47-ad05-bc9541ae9613\">\n",
              "    <div class=\"colab-df-container\">\n",
              "      <div>\n",
              "<style scoped>\n",
              "    .dataframe tbody tr th:only-of-type {\n",
              "        vertical-align: middle;\n",
              "    }\n",
              "\n",
              "    .dataframe tbody tr th {\n",
              "        vertical-align: top;\n",
              "    }\n",
              "\n",
              "    .dataframe thead th {\n",
              "        text-align: right;\n",
              "    }\n",
              "</style>\n",
              "<table border=\"1\" class=\"dataframe\">\n",
              "  <thead>\n",
              "    <tr style=\"text-align: right;\">\n",
              "      <th></th>\n",
              "      <th>Date</th>\n",
              "      <th>Open</th>\n",
              "      <th>High</th>\n",
              "      <th>Low</th>\n",
              "      <th>Close</th>\n",
              "      <th>Volume</th>\n",
              "    </tr>\n",
              "  </thead>\n",
              "  <tbody>\n",
              "    <tr>\n",
              "      <th>0</th>\n",
              "      <td>1/3/2017</td>\n",
              "      <td>778.81</td>\n",
              "      <td>789.63</td>\n",
              "      <td>775.80</td>\n",
              "      <td>786.14</td>\n",
              "      <td>1,657,300</td>\n",
              "    </tr>\n",
              "    <tr>\n",
              "      <th>1</th>\n",
              "      <td>1/4/2017</td>\n",
              "      <td>788.36</td>\n",
              "      <td>791.34</td>\n",
              "      <td>783.16</td>\n",
              "      <td>786.90</td>\n",
              "      <td>1,073,000</td>\n",
              "    </tr>\n",
              "    <tr>\n",
              "      <th>2</th>\n",
              "      <td>1/5/2017</td>\n",
              "      <td>786.08</td>\n",
              "      <td>794.48</td>\n",
              "      <td>785.02</td>\n",
              "      <td>794.02</td>\n",
              "      <td>1,335,200</td>\n",
              "    </tr>\n",
              "    <tr>\n",
              "      <th>3</th>\n",
              "      <td>1/6/2017</td>\n",
              "      <td>795.26</td>\n",
              "      <td>807.90</td>\n",
              "      <td>792.20</td>\n",
              "      <td>806.15</td>\n",
              "      <td>1,640,200</td>\n",
              "    </tr>\n",
              "    <tr>\n",
              "      <th>4</th>\n",
              "      <td>1/9/2017</td>\n",
              "      <td>806.40</td>\n",
              "      <td>809.97</td>\n",
              "      <td>802.83</td>\n",
              "      <td>806.65</td>\n",
              "      <td>1,272,400</td>\n",
              "    </tr>\n",
              "  </tbody>\n",
              "</table>\n",
              "</div>\n",
              "      <button class=\"colab-df-convert\" onclick=\"convertToInteractive('df-2333a3b9-d1a3-4d47-ad05-bc9541ae9613')\"\n",
              "              title=\"Convert this dataframe to an interactive table.\"\n",
              "              style=\"display:none;\">\n",
              "        \n",
              "  <svg xmlns=\"http://www.w3.org/2000/svg\" height=\"24px\"viewBox=\"0 0 24 24\"\n",
              "       width=\"24px\">\n",
              "    <path d=\"M0 0h24v24H0V0z\" fill=\"none\"/>\n",
              "    <path d=\"M18.56 5.44l.94 2.06.94-2.06 2.06-.94-2.06-.94-.94-2.06-.94 2.06-2.06.94zm-11 1L8.5 8.5l.94-2.06 2.06-.94-2.06-.94L8.5 2.5l-.94 2.06-2.06.94zm10 10l.94 2.06.94-2.06 2.06-.94-2.06-.94-.94-2.06-.94 2.06-2.06.94z\"/><path d=\"M17.41 7.96l-1.37-1.37c-.4-.4-.92-.59-1.43-.59-.52 0-1.04.2-1.43.59L10.3 9.45l-7.72 7.72c-.78.78-.78 2.05 0 2.83L4 21.41c.39.39.9.59 1.41.59.51 0 1.02-.2 1.41-.59l7.78-7.78 2.81-2.81c.8-.78.8-2.07 0-2.86zM5.41 20L4 18.59l7.72-7.72 1.47 1.35L5.41 20z\"/>\n",
              "  </svg>\n",
              "      </button>\n",
              "      \n",
              "  <style>\n",
              "    .colab-df-container {\n",
              "      display:flex;\n",
              "      flex-wrap:wrap;\n",
              "      gap: 12px;\n",
              "    }\n",
              "\n",
              "    .colab-df-convert {\n",
              "      background-color: #E8F0FE;\n",
              "      border: none;\n",
              "      border-radius: 50%;\n",
              "      cursor: pointer;\n",
              "      display: none;\n",
              "      fill: #1967D2;\n",
              "      height: 32px;\n",
              "      padding: 0 0 0 0;\n",
              "      width: 32px;\n",
              "    }\n",
              "\n",
              "    .colab-df-convert:hover {\n",
              "      background-color: #E2EBFA;\n",
              "      box-shadow: 0px 1px 2px rgba(60, 64, 67, 0.3), 0px 1px 3px 1px rgba(60, 64, 67, 0.15);\n",
              "      fill: #174EA6;\n",
              "    }\n",
              "\n",
              "    [theme=dark] .colab-df-convert {\n",
              "      background-color: #3B4455;\n",
              "      fill: #D2E3FC;\n",
              "    }\n",
              "\n",
              "    [theme=dark] .colab-df-convert:hover {\n",
              "      background-color: #434B5C;\n",
              "      box-shadow: 0px 1px 3px 1px rgba(0, 0, 0, 0.15);\n",
              "      filter: drop-shadow(0px 1px 2px rgba(0, 0, 0, 0.3));\n",
              "      fill: #FFFFFF;\n",
              "    }\n",
              "  </style>\n",
              "\n",
              "      <script>\n",
              "        const buttonEl =\n",
              "          document.querySelector('#df-2333a3b9-d1a3-4d47-ad05-bc9541ae9613 button.colab-df-convert');\n",
              "        buttonEl.style.display =\n",
              "          google.colab.kernel.accessAllowed ? 'block' : 'none';\n",
              "\n",
              "        async function convertToInteractive(key) {\n",
              "          const element = document.querySelector('#df-2333a3b9-d1a3-4d47-ad05-bc9541ae9613');\n",
              "          const dataTable =\n",
              "            await google.colab.kernel.invokeFunction('convertToInteractive',\n",
              "                                                     [key], {});\n",
              "          if (!dataTable) return;\n",
              "\n",
              "          const docLinkHtml = 'Like what you see? Visit the ' +\n",
              "            '<a target=\"_blank\" href=https://colab.research.google.com/notebooks/data_table.ipynb>data table notebook</a>'\n",
              "            + ' to learn more about interactive tables.';\n",
              "          element.innerHTML = '';\n",
              "          dataTable['output_type'] = 'display_data';\n",
              "          await google.colab.output.renderOutput(dataTable, element);\n",
              "          const docLink = document.createElement('div');\n",
              "          docLink.innerHTML = docLinkHtml;\n",
              "          element.appendChild(docLink);\n",
              "        }\n",
              "      </script>\n",
              "    </div>\n",
              "  </div>\n",
              "  "
            ]
          },
          "metadata": {},
          "execution_count": 13
        }
      ]
    },
    {
      "cell_type": "code",
      "source": [
        "real_stock_price = dataset_test.loc[:, ['Open']].values\n",
        "real_stock_price"
      ],
      "metadata": {
        "trusted": true,
        "colab": {
          "base_uri": "https://localhost:8080/"
        },
        "id": "_TA1DWzlyRue",
        "outputId": "97300701-5e14-4e7d-e4fd-da995bc52a90"
      },
      "execution_count": 14,
      "outputs": [
        {
          "output_type": "execute_result",
          "data": {
            "text/plain": [
              "array([[778.81],\n",
              "       [788.36],\n",
              "       [786.08],\n",
              "       [795.26],\n",
              "       [806.4 ],\n",
              "       [807.86],\n",
              "       [805.  ],\n",
              "       [807.14],\n",
              "       [807.48],\n",
              "       [807.08],\n",
              "       [805.81],\n",
              "       [805.12],\n",
              "       [806.91],\n",
              "       [807.25],\n",
              "       [822.3 ],\n",
              "       [829.62],\n",
              "       [837.81],\n",
              "       [834.71],\n",
              "       [814.66],\n",
              "       [796.86]])"
            ]
          },
          "metadata": {},
          "execution_count": 14
        }
      ]
    },
    {
      "cell_type": "code",
      "source": [
        "#Getting the predicted stock price\n",
        "dataset_total = pd.concat((dataset_train['Open'], dataset_test['Open']), axis=0)\n",
        "inputs = dataset_total[len(dataset_total)-len(dataset_test) - timesteps:].values.reshape(-1,1)\n",
        "inputs = scaler.transform(inputs) #minmax scaler\n",
        "inputs"
      ],
      "metadata": {
        "trusted": true,
        "colab": {
          "base_uri": "https://localhost:8080/"
        },
        "id": "ljJlW49xyRue",
        "outputId": "969ccd61-01c0-45c1-b9e3-dcff66487c3d"
      },
      "execution_count": 15,
      "outputs": [
        {
          "output_type": "execute_result",
          "data": {
            "text/plain": [
              "array([[0.97510976],\n",
              "       [0.95966962],\n",
              "       [0.97808617],\n",
              "       [1.        ],\n",
              "       [0.98076494],\n",
              "       [0.97083116],\n",
              "       [0.98450406],\n",
              "       [0.96054394],\n",
              "       [0.9371419 ],\n",
              "       [0.92841729],\n",
              "       [0.90804747],\n",
              "       [0.8771858 ],\n",
              "       [0.92153434],\n",
              "       [0.93809063],\n",
              "       [0.93165414],\n",
              "       [0.95254483],\n",
              "       [0.88812412],\n",
              "       [0.88637547],\n",
              "       [0.87032145],\n",
              "       [0.88563137],\n",
              "       [0.90743359],\n",
              "       [0.91571173],\n",
              "       [0.89941588],\n",
              "       [0.91805566],\n",
              "       [0.9089404 ],\n",
              "       [0.9024853 ],\n",
              "       [0.89456061],\n",
              "       [0.91600938],\n",
              "       [0.9132934 ],\n",
              "       [0.88979835],\n",
              "       [0.86589404],\n",
              "       [0.89030062],\n",
              "       [0.90335962],\n",
              "       [0.89642086],\n",
              "       [0.91777662],\n",
              "       [0.93176576],\n",
              "       [0.94114145],\n",
              "       [0.95762334],\n",
              "       [0.96413424],\n",
              "       [0.96402262],\n",
              "       [0.96971501],\n",
              "       [0.95077759],\n",
              "       [0.96294367],\n",
              "       [0.96123223],\n",
              "       [0.95475854],\n",
              "       [0.95204256],\n",
              "       [0.95163331],\n",
              "       [0.95725128],\n",
              "       [0.93796041],\n",
              "       [0.93688146],\n",
              "       [0.92955205],\n",
              "       [0.94731751],\n",
              "       [0.94307612],\n",
              "       [0.96015329],\n",
              "       [0.98087655],\n",
              "       [0.98359253],\n",
              "       [0.97827219],\n",
              "       [0.98225314],\n",
              "       [0.98288563],\n",
              "       [0.98214153],\n",
              "       [0.979779  ],\n",
              "       [0.97849542],\n",
              "       [0.98182528],\n",
              "       [0.98245777],\n",
              "       [1.01045465],\n",
              "       [1.02407173],\n",
              "       [1.03930724],\n",
              "       [1.03354044],\n",
              "       [0.99624228],\n",
              "       [0.9631297 ]])"
            ]
          },
          "metadata": {},
          "execution_count": 15
        }
      ]
    },
    {
      "cell_type": "code",
      "source": [
        "X_test = []\n",
        "for i in range(timesteps, 70):\n",
        "    X_test.append(inputs[i-timesteps:i,0])\n",
        "X_test = np.array(X_test)\n",
        "X_test = np.reshape(X_test, (X_test.shape[0], X_test.shape[1], 1))\n",
        "predicted_stock_price = regressor.predict(X_test)\n",
        "predicted_stock_price = scaler.inverse_transform(predicted_stock_price)\n",
        "#inverse_transform ile, scale edildikten sonra predict edilen değerleri gerçek değer aralığına çekiyoruz"
      ],
      "metadata": {
        "trusted": true,
        "colab": {
          "base_uri": "https://localhost:8080/"
        },
        "id": "yxlXBMFVyRue",
        "outputId": "82fb8021-c43f-4591-9a65-68664e7c5777"
      },
      "execution_count": 16,
      "outputs": [
        {
          "output_type": "stream",
          "name": "stdout",
          "text": [
            "1/1 [==============================] - 1s 516ms/step\n"
          ]
        }
      ]
    },
    {
      "cell_type": "code",
      "source": [
        "plt.plot(real_stock_price, color='red', label='Real Google Stock Price')\n",
        "plt.plot(predicted_stock_price, color='blue', label='Predicted Google Stock Price')\n",
        "plt.title('Google Stock Price Prediction')\n",
        "plt.xlabel('Time')\n",
        "plt.ylabel('Google Stock Price')\n",
        "plt.legend()\n",
        "plt.show()"
      ],
      "metadata": {
        "trusted": true,
        "colab": {
          "base_uri": "https://localhost:8080/",
          "height": 472
        },
        "id": "Y3-luR96yRuf",
        "outputId": "d498f89d-8be8-49aa-e26b-19a43babaf61"
      },
      "execution_count": 17,
      "outputs": [
        {
          "output_type": "display_data",
          "data": {
            "text/plain": [
              "<Figure size 640x480 with 1 Axes>"
            ],
            "image/png": "[encoded data removed]"
          },
          "metadata": {}
        }
      ]
    },
    {
      "cell_type": "markdown",
      "source": [
        "<a id=\"12\"></a>\n",
        "**Implementing LSTM with KERAS**"
      ],
      "metadata": {
        "id": "hzeK07lDyRug"
      }
    },
    {
      "cell_type": "markdown",
      "source": [
        "<a id=\"13\"></a>\n",
        "**Loading Data**"
      ],
      "metadata": {
        "id": "Qp3QcyqgyRug"
      }
    },
    {
      "cell_type": "code",
      "source": [
        "data = pd.read_csv('/content/drive/MyDrive/lstm/international-airline-passengers.csv')\n",
        "data.head()"
      ],
      "metadata": {
        "trusted": true,
        "colab": {
          "base_uri": "https://localhost:8080/",
          "height": 206
        },
        "id": "-tU6etMByRuh",
        "outputId": "d5010784-7ac6-4df7-830c-c0bfe8a747ab"
      },
      "execution_count": 18,
      "outputs": [
        {
          "output_type": "execute_result",
          "data": {
            "text/plain": [
              "     Month  \\\n",
              "0  1949-01   \n",
              "1  1949-02   \n",
              "2  1949-03   \n",
              "3  1949-04   \n",
              "4  1949-05   \n",
              "\n",
              "   International airline passengers: monthly totals in thousands. Jan 49 ? Dec 60  \n",
              "0                                              112.0                               \n",
              "1                                              118.0                               \n",
              "2                                              132.0                               \n",
              "3                                              129.0                               \n",
              "4                                              121.0                               "
            ],
            "text/html": [
              "\n",
              "  <div id=\"df-33021cfa-fa21-4e06-af44-c1f8691b2212\">\n",
              "    <div class=\"colab-df-container\">\n",
              "      <div>\n",
              "<style scoped>\n",
              "    .dataframe tbody tr th:only-of-type {\n",
              "        vertical-align: middle;\n",
              "    }\n",
              "\n",
              "    .dataframe tbody tr th {\n",
              "        vertical-align: top;\n",
              "    }\n",
              "\n",
              "    .dataframe thead th {\n",
              "        text-align: right;\n",
              "    }\n",
              "</style>\n",
              "<table border=\"1\" class=\"dataframe\">\n",
              "  <thead>\n",
              "    <tr style=\"text-align: right;\">\n",
              "      <th></th>\n",
              "      <th>Month</th>\n",
              "      <th>International airline passengers: monthly totals in thousands. Jan 49 ? Dec 60</th>\n",
              "    </tr>\n",
              "  </thead>\n",
              "  <tbody>\n",
              "    <tr>\n",
              "      <th>0</th>\n",
              "      <td>1949-01</td>\n",
              "      <td>112.0</td>\n",
              "    </tr>\n",
              "    <tr>\n",
              "      <th>1</th>\n",
              "      <td>1949-02</td>\n",
              "      <td>118.0</td>\n",
              "    </tr>\n",
              "    <tr>\n",
              "      <th>2</th>\n",
              "      <td>1949-03</td>\n",
              "      <td>132.0</td>\n",
              "    </tr>\n",
              "    <tr>\n",
              "      <th>3</th>\n",
              "      <td>1949-04</td>\n",
              "      <td>129.0</td>\n",
              "    </tr>\n",
              "    <tr>\n",
              "      <th>4</th>\n",
              "      <td>1949-05</td>\n",
              "      <td>121.0</td>\n",
              "    </tr>\n",
              "  </tbody>\n",
              "</table>\n",
              "</div>\n",
              "      <button class=\"colab-df-convert\" onclick=\"convertToInteractive('df-33021cfa-fa21-4e06-af44-c1f8691b2212')\"\n",
              "              title=\"Convert this dataframe to an interactive table.\"\n",
              "              style=\"display:none;\">\n",
              "        \n",
              "  <svg xmlns=\"http://www.w3.org/2000/svg\" height=\"24px\"viewBox=\"0 0 24 24\"\n",
              "       width=\"24px\">\n",
              "    <path d=\"M0 0h24v24H0V0z\" fill=\"none\"/>\n",
              "    <path d=\"M18.56 5.44l.94 2.06.94-2.06 2.06-.94-2.06-.94-.94-2.06-.94 2.06-2.06.94zm-11 1L8.5 8.5l.94-2.06 2.06-.94-2.06-.94L8.5 2.5l-.94 2.06-2.06.94zm10 10l.94 2.06.94-2.06 2.06-.94-2.06-.94-.94-2.06-.94 2.06-2.06.94z\"/><path d=\"M17.41 7.96l-1.37-1.37c-.4-.4-.92-.59-1.43-.59-.52 0-1.04.2-1.43.59L10.3 9.45l-7.72 7.72c-.78.78-.78 2.05 0 2.83L4 21.41c.39.39.9.59 1.41.59.51 0 1.02-.2 1.41-.59l7.78-7.78 2.81-2.81c.8-.78.8-2.07 0-2.86zM5.41 20L4 18.59l7.72-7.72 1.47 1.35L5.41 20z\"/>\n",
              "  </svg>\n",
              "      </button>\n",
              "      \n",
              "  <style>\n",
              "    .colab-df-container {\n",
              "      display:flex;\n",
              "      flex-wrap:wrap;\n",
              "      gap: 12px;\n",
              "    }\n",
              "\n",
              "    .colab-df-convert {\n",
              "      background-color: #E8F0FE;\n",
              "      border: none;\n",
              "      border-radius: 50%;\n",
              "      cursor: pointer;\n",
              "      display: none;\n",
              "      fill: #1967D2;\n",
              "      height: 32px;\n",
              "      padding: 0 0 0 0;\n",
              "      width: 32px;\n",
              "    }\n",
              "\n",
              "    .colab-df-convert:hover {\n",
              "      background-color: #E2EBFA;\n",
              "      box-shadow: 0px 1px 2px rgba(60, 64, 67, 0.3), 0px 1px 3px 1px rgba(60, 64, 67, 0.15);\n",
              "      fill: #174EA6;\n",
              "    }\n",
              "\n",
              "    [theme=dark] .colab-df-convert {\n",
              "      background-color: #3B4455;\n",
              "      fill: #D2E3FC;\n",
              "    }\n",
              "\n",
              "    [theme=dark] .colab-df-convert:hover {\n",
              "      background-color: #434B5C;\n",
              "      box-shadow: 0px 1px 3px 1px rgba(0, 0, 0, 0.15);\n",
              "      filter: drop-shadow(0px 1px 2px rgba(0, 0, 0, 0.3));\n",
              "      fill: #FFFFFF;\n",
              "    }\n",
              "  </style>\n",
              "\n",
              "      <script>\n",
              "        const buttonEl =\n",
              "          document.querySelector('#df-33021cfa-fa21-4e06-af44-c1f8691b2212 button.colab-df-convert');\n",
              "        buttonEl.style.display =\n",
              "          google.colab.kernel.accessAllowed ? 'block' : 'none';\n",
              "\n",
              "        async function convertToInteractive(key) {\n",
              "          const element = document.querySelector('#df-33021cfa-fa21-4e06-af44-c1f8691b2212');\n",
              "          const dataTable =\n",
              "            await google.colab.kernel.invokeFunction('convertToInteractive',\n",
              "                                                     [key], {});\n",
              "          if (!dataTable) return;\n",
              "\n",
              "          const docLinkHtml = 'Like what you see? Visit the ' +\n",
              "            '<a target=\"_blank\" href=https://colab.research.google.com/notebooks/data_table.ipynb>data table notebook</a>'\n",
              "            + ' to learn more about interactive tables.';\n",
              "          element.innerHTML = '';\n",
              "          dataTable['output_type'] = 'display_data';\n",
              "          await google.colab.output.renderOutput(dataTable, element);\n",
              "          const docLink = document.createElement('div');\n",
              "          docLink.innerHTML = docLinkHtml;\n",
              "          element.appendChild(docLink);\n",
              "        }\n",
              "      </script>\n",
              "    </div>\n",
              "  </div>\n",
              "  "
            ]
          },
          "metadata": {},
          "execution_count": 18
        }
      ]
    },
    {
      "cell_type": "code",
      "source": [
        "dataset = data.iloc[:, 1].values\n",
        "plt.plot(dataset)\n",
        "plt.xlabel('time')\n",
        "plt.ylabel('number of passengers (in thousands)')\n",
        "plt.title('Passengers')\n",
        "plt.show()"
      ],
      "metadata": {
        "trusted": true,
        "colab": {
          "base_uri": "https://localhost:8080/",
          "height": 472
        },
        "id": "rk2XUgFnyRui",
        "outputId": "d2438048-e686-4944-c24f-2275022c5bc0"
      },
      "execution_count": 19,
      "outputs": [
        {
          "output_type": "display_data",
          "data": {
            "text/plain": [
              "<Figure size 640x480 with 1 Axes>"
            ],
            "image/png": "[encoded data removed]"
          },
          "metadata": {}
        }
      ]
    },
    {
      "cell_type": "markdown",
      "source": [
        "<a id=\"14\"></a>\n",
        "**Preprocessing Data**"
      ],
      "metadata": {
        "id": "6nk25is4yRui"
      }
    },
    {
      "cell_type": "markdown",
      "source": [
        "<a id=\"15\"></a>\n",
        "**Reshape:**"
      ],
      "metadata": {
        "id": "GugTBELTyRuj"
      }
    },
    {
      "cell_type": "code",
      "source": [
        "dataset = dataset.reshape(-1,1) #(145, ) iken (145,1)e çevirdik\n",
        "dataset = dataset.astype('float32')\n",
        "dataset.shape"
      ],
      "metadata": {
        "trusted": true,
        "colab": {
          "base_uri": "https://localhost:8080/"
        },
        "id": "vX5Tm6ZGyRuj",
        "outputId": "ccfab34d-a25f-430b-d9e7-3505f4e07de1"
      },
      "execution_count": 20,
      "outputs": [
        {
          "output_type": "execute_result",
          "data": {
            "text/plain": [
              "(145, 1)"
            ]
          },
          "metadata": {},
          "execution_count": 20
        }
      ]
    },
    {
      "cell_type": "markdown",
      "source": [
        "<a id=\"16\"></a>\n",
        "**Scaling:**"
      ],
      "metadata": {
        "id": "EWGoPsAFyRuk"
      }
    },
    {
      "cell_type": "code",
      "source": [
        "scaler = MinMaxScaler(feature_range= (0,1))\n",
        "dataset = scaler.fit_transform(dataset)"
      ],
      "metadata": {
        "trusted": true,
        "id": "l0jQq_o1yRuk"
      },
      "execution_count": 21,
      "outputs": []
    },
    {
      "cell_type": "markdown",
      "source": [
        "<a id=\"17\"></a>\n",
        "**Train Test Split:**"
      ],
      "metadata": {
        "id": "VJbz0zq-yRul"
      }
    },
    {
      "cell_type": "code",
      "source": [
        "train_size = int(len(dataset)*0.5)\n",
        "test_size = len(dataset)- train_size\n",
        "\n",
        "train = dataset[0:train_size, :]\n",
        "test = dataset[train_size:len(dataset), :]\n",
        "\n",
        "print('train size: {}, test size: {}'.format(len(train), len(test)))"
      ],
      "metadata": {
        "trusted": true,
        "colab": {
          "base_uri": "https://localhost:8080/"
        },
        "id": "OQ8pI2JWyRul",
        "outputId": "cd7e6e31-b250-4bef-b609-4ba4fc90ff0e"
      },
      "execution_count": 22,
      "outputs": [
        {
          "output_type": "stream",
          "name": "stdout",
          "text": [
            "train size: 72, test size: 73\n"
          ]
        }
      ]
    },
    {
      "cell_type": "code",
      "source": [
        "dataX = []\n",
        "datay = []\n",
        "timestemp = 10\n",
        "\n",
        "for i in range(len(train)- timestemp -1):\n",
        "    a = train[i:(i+timestemp), 0]\n",
        "    dataX.append(a)\n",
        "    datay.append(train[i + timestemp, 0])\n",
        "\n",
        "    \n",
        "trainX, trainy = np.array(dataX), np.array(datay)"
      ],
      "metadata": {
        "trusted": true,
        "id": "dZ1SYgqWyRum"
      },
      "execution_count": 23,
      "outputs": []
    },
    {
      "cell_type": "code",
      "source": [
        "dataX = []\n",
        "datay = []\n",
        "for i in range(len(test)- timestemp -1):\n",
        "    a = test[i:(i+timestemp), 0]\n",
        "    dataX.append(a)\n",
        "    datay.append(test[i + timestemp, 0])\n",
        "\n",
        "    \n",
        "testX, testy = np.array(dataX), np.array(datay)"
      ],
      "metadata": {
        "trusted": true,
        "id": "RudcleF9yRun"
      },
      "execution_count": 24,
      "outputs": []
    },
    {
      "cell_type": "code",
      "source": [
        "trainX.shape"
      ],
      "metadata": {
        "trusted": true,
        "colab": {
          "base_uri": "https://localhost:8080/"
        },
        "id": "67gk3gV-yRup",
        "outputId": "23fa779e-982f-4062-d4a0-0c9e7e90ba3c"
      },
      "execution_count": 25,
      "outputs": [
        {
          "output_type": "execute_result",
          "data": {
            "text/plain": [
              "(61, 10)"
            ]
          },
          "metadata": {},
          "execution_count": 25
        }
      ]
    },
    {
      "cell_type": "code",
      "source": [
        "trainX = np.reshape(trainX, (trainX.shape[0],1,  trainX.shape[1]))\n",
        "testX = np.reshape(testX, (testX.shape[0],1,  testX.shape[1]))"
      ],
      "metadata": {
        "trusted": true,
        "id": "Du68Sa9uyRup"
      },
      "execution_count": 26,
      "outputs": []
    },
    {
      "cell_type": "code",
      "source": [
        "trainX.shape"
      ],
      "metadata": {
        "trusted": true,
        "colab": {
          "base_uri": "https://localhost:8080/"
        },
        "id": "k2e0i8KoyRuq",
        "outputId": "83de9303-5345-48a0-c739-074f38fecb01"
      },
      "execution_count": 27,
      "outputs": [
        {
          "output_type": "execute_result",
          "data": {
            "text/plain": [
              "(61, 1, 10)"
            ]
          },
          "metadata": {},
          "execution_count": 27
        }
      ]
    },
    {
      "cell_type": "markdown",
      "source": [
        "<a id=\"18\"></a>\n",
        "**Create LSTM Model**"
      ],
      "metadata": {
        "id": "qtlLCudJyRur"
      }
    },
    {
      "cell_type": "code",
      "source": [
        "from keras.models import Sequential\n",
        "from keras.layers import Dense\n",
        "from keras.layers import LSTM\n",
        "from sklearn.preprocessing import MinMaxScaler\n",
        "from sklearn.metrics import mean_squared_error"
      ],
      "metadata": {
        "trusted": true,
        "id": "93VSF2fEyRur"
      },
      "execution_count": 28,
      "outputs": []
    },
    {
      "cell_type": "code",
      "source": [
        "# model\n",
        "model = Sequential()\n",
        "model.add(LSTM(10, input_shape=(1, timestemp))) # 10 lstm neuron(block)\n",
        "model.add(Dense(1))\n",
        "model.compile(loss='mean_squared_error', optimizer='adam')\n",
        "model.fit(trainX, trainy, epochs=50, batch_size=1)"
      ],
      "metadata": {
        "trusted": true,
        "colab": {
          "base_uri": "https://localhost:8080/"
        },
        "id": "H5GpW7bZyRus",
        "outputId": "409feaf3-bffe-4520-f42c-dee2eeae96d0"
      },
      "execution_count": 29,
      "outputs": [
        {
          "output_type": "stream",
          "name": "stdout",
          "text": [
            "Epoch 1/50\n",
            "61/61 [==============================] - 2s 2ms/step - loss: 0.0456\n",
            "Epoch 2/50\n",
            "61/61 [==============================] - 0s 2ms/step - loss: 0.0103\n",
            "Epoch 3/50\n",
            "61/61 [==============================] - 0s 2ms/step - loss: 0.0061\n",
            "Epoch 4/50\n",
            "61/61 [==============================] - 0s 2ms/step - loss: 0.0056\n",
            "Epoch 5/50\n",
            "61/61 [==============================] - 0s 3ms/step - loss: 0.0050\n",
            "Epoch 6/50\n",
            "61/61 [==============================] - 0s 2ms/step - loss: 0.0046\n",
            "Epoch 7/50\n",
            "61/61 [==============================] - 0s 2ms/step - loss: 0.0041\n",
            "Epoch 8/50\n",
            "61/61 [==============================] - 0s 2ms/step - loss: 0.0040\n",
            "Epoch 9/50\n",
            "61/61 [==============================] - 0s 2ms/step - loss: 0.0035\n",
            "Epoch 10/50\n",
            "61/61 [==============================] - 0s 2ms/step - loss: 0.0034\n",
            "Epoch 11/50\n",
            "61/61 [==============================] - 0s 3ms/step - loss: 0.0031\n",
            "Epoch 12/50\n",
            "61/61 [==============================] - 0s 2ms/step - loss: 0.0031\n",
            "Epoch 13/50\n",
            "61/61 [==============================] - 0s 2ms/step - loss: 0.0029\n",
            "Epoch 14/50\n",
            "61/61 [==============================] - 0s 3ms/step - loss: 0.0029\n",
            "Epoch 15/50\n",
            "61/61 [==============================] - 0s 2ms/step - loss: 0.0027\n",
            "Epoch 16/50\n",
            "61/61 [==============================] - 0s 2ms/step - loss: 0.0027\n",
            "Epoch 17/50\n",
            "61/61 [==============================] - 0s 2ms/step - loss: 0.0025\n",
            "Epoch 18/50\n",
            "61/61 [==============================] - 0s 3ms/step - loss: 0.0025\n",
            "Epoch 19/50\n",
            "61/61 [==============================] - 0s 2ms/step - loss: 0.0024\n",
            "Epoch 20/50\n",
            "61/61 [==============================] - 0s 3ms/step - loss: 0.0023\n",
            "Epoch 21/50\n",
            "61/61 [==============================] - 0s 2ms/step - loss: 0.0023\n",
            "Epoch 22/50\n",
            "61/61 [==============================] - 0s 2ms/step - loss: 0.0021\n",
            "Epoch 23/50\n",
            "61/61 [==============================] - 0s 3ms/step - loss: 0.0020\n",
            "Epoch 24/50\n",
            "61/61 [==============================] - 0s 2ms/step - loss: 0.0020\n",
            "Epoch 25/50\n",
            "61/61 [==============================] - 0s 3ms/step - loss: 0.0020\n",
            "Epoch 26/50\n",
            "61/61 [==============================] - 0s 3ms/step - loss: 0.0021\n",
            "Epoch 27/50\n",
            "61/61 [==============================] - 0s 2ms/step - loss: 0.0018\n",
            "Epoch 28/50\n",
            "61/61 [==============================] - 0s 2ms/step - loss: 0.0018\n",
            "Epoch 29/50\n",
            "61/61 [==============================] - 0s 2ms/step - loss: 0.0018\n",
            "Epoch 30/50\n",
            "61/61 [==============================] - 0s 3ms/step - loss: 0.0017\n",
            "Epoch 31/50\n",
            "61/61 [==============================] - 0s 4ms/step - loss: 0.0016\n",
            "Epoch 32/50\n",
            "61/61 [==============================] - 0s 4ms/step - loss: 0.0018\n",
            "Epoch 33/50\n",
            "61/61 [==============================] - 0s 3ms/step - loss: 0.0016\n",
            "Epoch 34/50\n",
            "61/61 [==============================] - 0s 3ms/step - loss: 0.0015\n",
            "Epoch 35/50\n",
            "61/61 [==============================] - 0s 3ms/step - loss: 0.0015\n",
            "Epoch 36/50\n",
            "61/61 [==============================] - 0s 4ms/step - loss: 0.0015\n",
            "Epoch 37/50\n",
            "61/61 [==============================] - 0s 3ms/step - loss: 0.0015\n",
            "Epoch 38/50\n",
            "61/61 [==============================] - 0s 3ms/step - loss: 0.0014\n",
            "Epoch 39/50\n",
            "61/61 [==============================] - 0s 3ms/step - loss: 0.0014\n",
            "Epoch 40/50\n",
            "61/61 [==============================] - 0s 4ms/step - loss: 0.0013\n",
            "Epoch 41/50\n",
            "61/61 [==============================] - 0s 3ms/step - loss: 0.0014\n",
            "Epoch 42/50\n",
            "61/61 [==============================] - 0s 3ms/step - loss: 0.0014\n",
            "Epoch 43/50\n",
            "61/61 [==============================] - 0s 4ms/step - loss: 0.0013\n",
            "Epoch 44/50\n",
            "61/61 [==============================] - 0s 4ms/step - loss: 0.0013\n",
            "Epoch 45/50\n",
            "61/61 [==============================] - 0s 4ms/step - loss: 0.0013\n",
            "Epoch 46/50\n",
            "61/61 [==============================] - 0s 3ms/step - loss: 0.0012\n",
            "Epoch 47/50\n",
            "61/61 [==============================] - 0s 3ms/step - loss: 0.0013\n",
            "Epoch 48/50\n",
            "61/61 [==============================] - 0s 4ms/step - loss: 0.0012\n",
            "Epoch 49/50\n",
            "61/61 [==============================] - 0s 5ms/step - loss: 0.0012\n",
            "Epoch 50/50\n",
            "61/61 [==============================] - 0s 6ms/step - loss: 0.0013\n"
          ]
        },
        {
          "output_type": "execute_result",
          "data": {
            "text/plain": [
              "<keras.callbacks.History at 0x7f6cdb263820>"
            ]
          },
          "metadata": {},
          "execution_count": 29
        }
      ]
    },
    {
      "cell_type": "markdown",
      "source": [
        "<a id=\"19\"></a>\n",
        "**Prediction**"
      ],
      "metadata": {
        "id": "4Th3zAd-yRut"
      }
    },
    {
      "cell_type": "code",
      "source": [
        "#make predictions\n",
        "trainPredict = model.predict(trainX)\n",
        "testPredict = model.predict(testX)\n",
        "\n",
        "# invert predictions\n",
        "trainPredict = scaler.inverse_transform(trainPredict)\n",
        "trainy = scaler.inverse_transform([trainy])\n",
        "testPredict = scaler.inverse_transform(testPredict)\n",
        "testy = scaler.inverse_transform([testy])\n",
        "\n",
        "import math\n",
        "# calculate root mean squared error\n",
        "trainScore = math.sqrt(mean_squared_error(trainy[0], trainPredict[:,0]))\n",
        "print('Train Score: %.2f RMSE' % (trainScore))\n",
        "testScore = math.sqrt(mean_squared_error(testy[0], testPredict[:,0]))\n",
        "print('Test Score: %.2f RMSE' % (testScore))"
      ],
      "metadata": {
        "trusted": true,
        "colab": {
          "base_uri": "https://localhost:8080/"
        },
        "id": "YtYlKFIcyRut",
        "outputId": "0bf75f89-4d76-46ea-c8cd-06fdcfcbd625"
      },
      "execution_count": 30,
      "outputs": [
        {
          "output_type": "stream",
          "name": "stdout",
          "text": [
            "2/2 [==============================] - 0s 6ms/step\n",
            "2/2 [==============================] - 0s 8ms/step\n",
            "Train Score: 18.31 RMSE\n",
            "Test Score: 41.98 RMSE\n"
          ]
        }
      ]
    },
    {
      "cell_type": "code",
      "source": [
        "# shifting train\n",
        "trainPredictPlot = np.empty_like(dataset)\n",
        "trainPredictPlot[:, :] = np.nan\n",
        "trainPredictPlot[timestemp:len(trainPredict)+timestemp, :] = trainPredict\n",
        "# shifting test predictions for plotting\n",
        "testPredictPlot = np.empty_like(dataset)\n",
        "testPredictPlot[:, :] = np.nan\n",
        "testPredictPlot[len(trainPredict)+(timestemp*2)+1:len(dataset)-1, :] = testPredict\n",
        "# plot baseline and predictions\n",
        "plt.plot(scaler.inverse_transform(dataset))\n",
        "plt.plot(trainPredictPlot)\n",
        "plt.plot(testPredictPlot)\n",
        "plt.show()"
      ],
      "metadata": {
        "trusted": true,
        "colab": {
          "base_uri": "https://localhost:8080/",
          "height": 430
        },
        "id": "N9kQ0ZhnyRuu",
        "outputId": "d5dd292b-2237-4af8-a347-5e7c8af0031e"
      },
      "execution_count": 31,
      "outputs": [
        {
          "output_type": "display_data",
          "data": {
            "text/plain": [
              "<Figure size 640x480 with 1 Axes>"
            ],
            "image/png": "[encoded data removed]"
          },
          "metadata": {}
        }
      ]
    }
  ]
}